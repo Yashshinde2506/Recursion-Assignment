{
 "cells": [
  {
   "cell_type": "code",
   "execution_count": 3,
   "id": "5ca2b632",
   "metadata": {},
   "outputs": [
    {
     "name": "stdout",
     "output_type": "stream",
     "text": [
      "Move disk 1 from A to C\n",
      "Move disk 2 from A to B\n",
      "Move disk 1 from C to B\n",
      "Move disk 3 from A to C\n",
      "Move disk 1 from B to A\n",
      "Move disk 2 from B to C\n",
      "Move disk 1 from A to C\n"
     ]
    },
    {
     "data": {
      "text/plain": [
       "\"tower_of_hanoi is a recursive function that takes four parameters: n (the number of disks), source_rod (the rod from which the disks should be moved), target_rod (the rod to which the disks should be moved), and auxiliary_rod (the auxiliary rod used for the intermediate steps).\\n\\nThe base case of the recursion is when n is 1. In this case, it directly moves the disk from the source_rod to the target_rod and prints the move.\\n\\nFor n > 1, the function first recursively moves n-1 disks from the source_rod to the auxiliary_rod using the target_rod as the auxiliary rod.\\n\\nThen, it prints the move of the nth disk from the source_rod to the target_rod.\\n\\nFinally, it recursively moves the n-1 disks from the auxiliary_rod to the target_rod using the source_rod as the auxiliary rod.\\n\\nWhen you run this program with tower_of_hanoi(3, 'A', 'C', 'B'), it will print the sequence of moves required to solve the Tower of Hanoi puzzle with 3 disks.\""
      ]
     },
     "execution_count": 3,
     "metadata": {},
     "output_type": "execute_result"
    }
   ],
   "source": [
    "def tower_of_hanoi(n, source_rod, target_rod, auxiliary_rod):\n",
    "    if n == 1:\n",
    "        print(f\"Move disk 1 from {source_rod} to {target_rod}\")\n",
    "        return\n",
    "    tower_of_hanoi(n - 1, source_rod, auxiliary_rod, target_rod)\n",
    "    print(f\"Move disk {n} from {source_rod} to {target_rod}\")\n",
    "    tower_of_hanoi(n - 1, auxiliary_rod, target_rod, source_rod)\n",
    "\n",
    "# Example usage for 3 disks\n",
    "tower_of_hanoi(3, 'A', 'C', 'B')\n",
    "\n",
    "\"\"\"tower_of_hanoi is a recursive function that takes four parameters: n (the number of disks), source_rod (the rod from which the disks should be moved), target_rod (the rod to which the disks should be moved), and auxiliary_rod (the auxiliary rod used for the intermediate steps).\n",
    "\n",
    "The base case of the recursion is when n is 1. In this case, it directly moves the disk from the source_rod to the target_rod and prints the move.\n",
    "\n",
    "For n > 1, the function first recursively moves n-1 disks from the source_rod to the auxiliary_rod using the target_rod as the auxiliary rod.\n",
    "\n",
    "Then, it prints the move of the nth disk from the source_rod to the target_rod.\n",
    "\n",
    "Finally, it recursively moves the n-1 disks from the auxiliary_rod to the target_rod using the source_rod as the auxiliary rod.\n",
    "\n",
    "When you run this program with tower_of_hanoi(3, 'A', 'C', 'B'), it will print the sequence of moves required to solve the Tower of Hanoi puzzle with 3 disks.\"\"\""
   ]
  },
  {
   "cell_type": "code",
   "execution_count": 4,
   "id": "506782a5",
   "metadata": {},
   "outputs": [
    {
     "name": "stdout",
     "output_type": "stream",
     "text": [
      "Output 1: 3\n",
      "Output 2: 5\n"
     ]
    }
   ],
   "source": [
    "def min_distance(word1, word2):\n",
    "    m, n = len(word1), len(word2)\n",
    "    \n",
    "    # Initialize a 2D matrix to store minimum operations\n",
    "    dp = [[0] * (n + 1) for _ in range(m + 1)]\n",
    "    \n",
    "    # Initialize the first row and column\n",
    "    for i in range(m + 1):\n",
    "        dp[i][0] = i\n",
    "    for j in range(n + 1):\n",
    "        dp[0][j] = j\n",
    "    \n",
    "    # Fill in the matrix based on the conditions\n",
    "    for i in range(1, m + 1):\n",
    "        for j in range(1, n + 1):\n",
    "            if word1[i - 1] == word2[j - 1]:\n",
    "                dp[i][j] = dp[i - 1][j - 1]\n",
    "            else:\n",
    "                dp[i][j] = min(dp[i - 1][j], dp[i][j - 1], dp[i - 1][j - 1]) + 1\n",
    "    \n",
    "    # The bottom-right element of the matrix represents the minimum operations\n",
    "    return dp[m][n]\n",
    "\n",
    "# Example usage:\n",
    "word1_1, word2_1 = \"horse\", \"ros\"\n",
    "word1_2, word2_2 = \"intention\", \"execution\"\n",
    "\n",
    "output1 = min_distance(word1_1, word2_1)\n",
    "output2 = min_distance(word1_2, word2_2)\n",
    "\n",
    "print(f\"Output 1: {output1}\")\n",
    "print(f\"Output 2: {output2}\")\n"
   ]
  },
  {
   "cell_type": "code",
   "execution_count": 5,
   "id": "da571c30",
   "metadata": {},
   "outputs": [
    {
     "name": "stdout",
     "output_type": "stream",
     "text": [
      "The maximum value in the array is: 22\n"
     ]
    }
   ],
   "source": [
    "arr = [13, 1, -3, 22, 5]\n",
    "max_value = max(arr)\n",
    "\n",
    "print(\"The maximum value in the array is:\", max_value)\n",
    "\n"
   ]
  },
  {
   "cell_type": "code",
   "execution_count": 6,
   "id": "cf588be9",
   "metadata": {},
   "outputs": [
    {
     "name": "stdout",
     "output_type": "stream",
     "text": [
      "The sum of the values in the array is: 120\n"
     ]
    }
   ],
   "source": [
    "arr = [92, 23, 15, -20, 10]\n",
    "sum_values = sum(arr)\n",
    "\n",
    "print(\"The sum of the values in the array is:\", sum_values)\n"
   ]
  },
  {
   "cell_type": "code",
   "execution_count": 7,
   "id": "5747f782",
   "metadata": {},
   "outputs": [
    {
     "name": "stdout",
     "output_type": "stream",
     "text": [
      "Output 1: Yes\n",
      "Output 2: No\n"
     ]
    }
   ],
   "source": [
    "def is_armstrong_number(n):\n",
    "    # Convert the number to a string to find the total digits\n",
    "    num_str = str(n)\n",
    "    num_digits = len(num_str)\n",
    "    \n",
    "    # Calculate the sum of each digit raised to the power of total digits\n",
    "    armstrong_sum = sum(int(digit) ** num_digits for digit in num_str)\n",
    "    \n",
    "    # Check if the sum is equal to the original number\n",
    "    return armstrong_sum == n\n",
    "\n",
    "# Example usage:\n",
    "input1 = 153\n",
    "input2 = 134\n",
    "\n",
    "output1 = is_armstrong_number(input1)\n",
    "output2 = is_armstrong_number(input2)\n",
    "\n",
    "print(\"Output 1:\", \"Yes\" if output1 else \"No\")\n",
    "print(\"Output 2:\", \"Yes\" if output2 else \"No\")\n"
   ]
  },
  {
   "cell_type": "code",
   "execution_count": null,
   "id": "457fa606",
   "metadata": {},
   "outputs": [],
   "source": []
  }
 ],
 "metadata": {
  "kernelspec": {
   "display_name": "Python 3 (ipykernel)",
   "language": "python",
   "name": "python3"
  },
  "language_info": {
   "codemirror_mode": {
    "name": "ipython",
    "version": 3
   },
   "file_extension": ".py",
   "mimetype": "text/x-python",
   "name": "python",
   "nbconvert_exporter": "python",
   "pygments_lexer": "ipython3",
   "version": "3.9.12"
  }
 },
 "nbformat": 4,
 "nbformat_minor": 5
}
